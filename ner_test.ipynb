{
 "cells": [
  {
   "cell_type": "code",
   "execution_count": 14,
   "metadata": {},
   "outputs": [
    {
     "name": "stdout",
     "output_type": "stream",
     "text": [
      "[nltk_data] Downloading package maxent_ne_chunker to\n",
      "[nltk_data]     /home/grusinator/nltk_data...\n",
      "[nltk_data]   Package maxent_ne_chunker is already up-to-date!\n",
      "[nltk_data] Downloading package words to /home/grusinator/nltk_data...\n",
      "[nltk_data]   Package words is already up-to-date!\n",
      "[nltk_data] Downloading package punkt to /home/grusinator/nltk_data...\n",
      "[nltk_data]   Package punkt is already up-to-date!\n",
      "[nltk_data] Downloading package averaged_perceptron_tagger to\n",
      "[nltk_data]     /home/grusinator/nltk_data...\n",
      "[nltk_data]   Unzipping taggers/averaged_perceptron_tagger.zip.\n"
     ]
    },
    {
     "data": {
      "text/plain": [
       "True"
      ]
     },
     "execution_count": 14,
     "metadata": {},
     "output_type": "execute_result"
    }
   ],
   "source": [
    "\"\"\"from scikitcrf_ner import entityRecognition as ner\n",
    "\n",
    "ner.train(\"sample_train.json\")\n",
    "entities = ner.predict(\"show me some Indian restaurants\")\n",
    "print(entites)\"\"\"\n",
    "\n",
    "\n",
    "\"\"\"import ner\n",
    "tagger = ner.HttpNER(host='localhost', port=8080)\n",
    "tagger.get_entities(\"University of California is located in California, United States\")\n",
    "#{'LOCATION': ['California', 'United States'],\n",
    " #'ORGANIZATION': ['University of California']}\n",
    "tagger.json_entities(\"Alice went to the Museum of Natural History.\")\n",
    "#'{\"ORGANIZATION\": [\"Museum of Natural History\"], \"PERSON\": [\"Alice\"]}'\n",
    "\"\"\"\n",
    "\n",
    "import nltk\n",
    "\n",
    "nltk.download('maxent_ne_chunker')\n",
    "nltk.download('words')\n",
    "nltk.download('punkt')\n",
    "nltk.download('averaged_perceptron_tagger')\n",
    "\n",
    "\n",
    "\n"
   ]
  },
  {
   "cell_type": "code",
   "execution_count": 21,
   "metadata": {},
   "outputs": [
    {
     "name": "stdout",
     "output_type": "stream",
     "text": [
      "[('Frederiksborg', 'NNP'), ('Castle', 'NNP'), ('(', '('), ('Danish', 'JJ'), (':', ':'), ('Frederiksborg', 'NNP'), ('Slot', 'NNP'), (')', ')'), ('is', 'VBZ'), ('a', 'DT'), ('palatial', 'JJ'), ('complex', 'NN'), ('in', 'IN'), ('Hillerød', 'NNP'), (',', ','), ('Denmark', 'NNP'), ('.', '.')]\n",
      "[('It', 'PRP'), ('was', 'VBD'), ('built', 'VBN'), ('as', 'IN'), ('a', 'DT'), ('royal', 'JJ'), ('residence', 'NN'), ('for', 'IN'), ('King', 'VBG'), ('Christian', 'JJ'), ('IV', 'NNP'), ('of', 'IN'), ('Denmark-Norway', 'NNP'), ('in', 'IN'), ('the', 'DT'), ('early', 'JJ'), ('17th', 'JJ'), ('century', 'NN'), (',', ','), ('replacing', 'VBG'), ('an', 'DT'), ('older', 'JJR'), ('castle', 'NN'), ('acquired', 'VBN'), ('by', 'IN'), ('Frederick', 'NNP'), ('II', 'NNP'), ('and', 'CC'), ('becoming', 'VBG'), ('the', 'DT'), ('largest', 'JJS'), ('Renaissance', 'NN'), ('residence', 'NN'), ('in', 'IN'), ('Scandinavia', 'NNP'), ('.', '.')]\n",
      "[('Situated', 'VBN'), ('on', 'IN'), ('three', 'CD'), ('islets', 'NNS'), ('in', 'IN'), ('the', 'DT'), ('Slotssøen', 'NNP'), ('(', '('), ('castle', 'JJ'), ('lake', 'NN'), (')', ')'), (',', ','), ('it', 'PRP'), ('is', 'VBZ'), ('adjoined', 'VBN'), ('by', 'IN'), ('a', 'DT'), ('large', 'JJ'), ('formal', 'JJ'), ('garden', 'NN'), ('in', 'IN'), ('the', 'DT'), ('Baroque', 'NNP'), ('style', 'NN'), ('.', '.')]\n",
      "[('After', 'IN'), ('a', 'DT'), ('serious', 'JJ'), ('fire', 'NN'), ('in', 'IN'), ('1859', 'CD'), (',', ','), ('the', 'DT'), ('castle', 'NN'), ('was', 'VBD'), ('rebuilt', 'VBN'), ('on', 'IN'), ('the', 'DT'), ('basis', 'NN'), ('of', 'IN'), ('old', 'JJ'), ('plans', 'NNS'), ('and', 'CC'), ('paintings', 'NNS'), ('.', '.')]\n",
      "[('Thanks', 'NNS'), ('to', 'TO'), ('public', 'JJ'), ('support', 'NN'), ('and', 'CC'), ('the', 'DT'), ('brewer', 'NN'), ('J.', 'NNP'), ('C.', 'NNP'), ('Jacobsen', 'NNP'), (',', ','), ('the', 'DT'), ('building', 'NN'), ('and', 'CC'), ('its', 'PRP$'), ('apartments', 'NNS'), ('were', 'VBD'), ('fully', 'RB'), ('restored', 'VBN'), ('by', 'IN'), ('1882', 'CD'), ('when', 'WRB'), ('it', 'PRP'), ('was', 'VBD'), ('reopened', 'VBN'), ('to', 'TO'), ('the', 'DT'), ('public', 'NN'), ('as', 'IN'), ('the', 'DT'), ('Danish', 'NNP'), ('Museum', 'NNP'), ('of', 'IN'), ('National', 'NNP'), ('History', 'NNP'), ('.', '.')]\n",
      "[('Open', 'VB'), ('throughout', 'IN'), ('the', 'DT'), ('year', 'NN'), (',', ','), ('the', 'DT'), ('museum', 'NN'), ('contains', 'VBZ'), ('the', 'DT'), ('largest', 'JJS'), ('collection', 'NN'), ('of', 'IN'), ('portrait', 'NN'), ('paintings', 'NNS'), ('in', 'IN'), ('Denmark', 'NNP'), ('.', '.')]\n",
      "[('It', 'PRP'), ('also', 'RB'), ('provides', 'VBZ'), ('visitors', 'NNS'), ('with', 'IN'), ('an', 'DT'), ('opportunity', 'NN'), ('to', 'TO'), ('visit', 'VB'), ('several', 'JJ'), ('of', 'IN'), ('the', 'DT'), ('castle', 'NN'), (\"'s\", 'POS'), ('state', 'NN'), ('rooms', 'NNS'), ('including', 'VBG'), ('the', 'DT'), ('restored', 'JJ'), ('Valdemar', 'NNP'), ('Room', 'NNP'), ('and', 'CC'), ('Great', 'NNP'), ('Hall', 'NNP'), ('as', 'RB'), ('well', 'RB'), ('as', 'IN'), ('the', 'DT'), ('Chapel', 'NNP'), ('and', 'CC'), ('the', 'DT'), ('Audience', 'NNP'), ('Chamber', 'NNP'), ('which', 'WDT'), ('were', 'VBD'), ('both', 'DT'), ('largely', 'RB'), ('spared', 'VBN'), ('by', 'IN'), ('the', 'DT'), ('fire', 'NN'), ('and', 'CC'), ('contain', 'VBP'), ('sumptuous', 'JJ'), ('decorations', 'NNS'), ('.', '.')]\n"
     ]
    }
   ],
   "source": [
    "import nltk\n",
    "import re\n",
    "import time\n",
    " \n",
    "exampleArray = ['The incredibly intimidating NLP scares people away who are sissies.']\n",
    " \n",
    "contentArray =['Starbucks is not doing very well lately.',\n",
    "               'Overall, while it may seem there is already a Starbucks on every corner, Starbucks still has a lot of room to grow.',\n",
    "               'They just began expansion into food products, which has been going quite well so far for them.',\n",
    "               'I can attest that my own expenditure when going to Starbucks has increased, in lieu of these food products.',\n",
    "               'Starbucks is also indeed expanding their number of stores as well.',\n",
    "               'Starbucks still sees strong sales growth here in the united states, and intends to actually continue increasing this.',\n",
    "               'Starbucks also has one of the more successful loyalty programs, which accounts for 30%  of all transactions being loyalty-program-based.',\n",
    "               'As if news could not get any more positive for the company, Brazilian weather has become ideal for producing coffee beans.',\n",
    "               'Brazil is the world\\'s #1 coffee producer, the source of about 1/3rd of the entire world\\'s supply!',\n",
    "               'Given the dry weather, coffee farmers have amped up production, to take as much of an advantage as possible with the dry weather.',\n",
    "               'Increase in supply... well you know the rules...',]\n",
    "    \n",
    "import wikipedia\n",
    "\n",
    "page = wikipedia.page(title='frederiksborg castle')\n",
    "\n",
    "summary = page.summary\n",
    "\n",
    "sentences = nltk.sent_tokenize(summary)\n",
    "    \n",
    "\n",
    "for item in sentences:\n",
    "    tokenized = nltk.word_tokenize(item)\n",
    "    #print(tokenized)\n",
    "    tagged = nltk.pos_tag(tokenized)\n",
    "    #print tagged\n",
    "\n",
    "    namedEnt = nltk.ne_chunk(tagged)\n",
    "\n",
    "    print(tagged)\n",
    "    #namedEnt.draw()\n",
    " \n"
   ]
  },
  {
   "cell_type": "code",
   "execution_count": null,
   "metadata": {
    "collapsed": true
   },
   "outputs": [],
   "source": []
  }
 ],
 "metadata": {
  "kernelspec": {
   "display_name": "Python 3",
   "language": "python",
   "name": "python3"
  },
  "language_info": {
   "codemirror_mode": {
    "name": "ipython",
    "version": 3
   },
   "file_extension": ".py",
   "mimetype": "text/x-python",
   "name": "python",
   "nbconvert_exporter": "python",
   "pygments_lexer": "ipython3",
   "version": "3.6.1"
  }
 },
 "nbformat": 4,
 "nbformat_minor": 2
}
